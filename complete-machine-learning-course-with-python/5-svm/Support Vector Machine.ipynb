{
 "cells": [
  {
   "cell_type": "markdown",
   "metadata": {},
   "source": [
    "# Support Vector Machine (SVM)\n",
    "\n",
    "Invented in [1963](https://en.wikipedia.org/wiki/Support_vector_machine#History) by [Vladimir N. Vapnik](https://en.wikipedia.org/wiki/Vladimir_Vapnik) and Alexey Ya. Chervonenkis while working at AT&T Bell Labs. Vladimir N. Vapnik joined Facebook AI Research in Nov 2014.\n",
    "\n",
    "In 1992, Bernhard E. Boser, Isabelle M. Guyon and Vladimir N. Vapnik suggested a way to create nonlinear classifiers by applying the kernel trick to maximum-margin hyperplanes.\n",
    "\n",
    "The current standard incarnation (soft margin) was proposed by Corinna Cortes and Vapnik in 1993 and published in 1995.\n",
    "\n"
   ]
  },
  {
   "cell_type": "markdown",
   "metadata": {},
   "source": [
    "References:\n",
    "\n",
    "1. [Support Vector Machine in Javascript Demo by Karpathy](http://cs.stanford.edu/people/karpathy/svmjs/demo/)\n",
    "\n",
    "2. [SVM](http://www.svms.org/tutorials/)\n",
    "\n",
    "3. [Statsoft](http://www.statsoft.com/Textbook/Support-Vector-Machines)\n",
    "\n",
    "4. [Wikipedia](https://en.wikipedia.org/wiki/Support_vector_machine)\n",
    "\n",
    "5. [Scikit-Learn](http://scikit-learn.org/stable/modules/svm.html)"
   ]
  },
  {
   "cell_type": "markdown",
   "metadata": {},
   "source": [
    "\n",
    "### Learning Outcomes:\n",
    "\n",
    "* Introduction\n",
    "* Linear SVM Classification\n",
    "* Polynomial Kernal\n",
    "* Radial Basis Function /  Gaussian Kernel\n",
    "* Support Vector Regression\n",
    "\n",
    "***"
   ]
  },
  {
   "cell_type": "markdown",
   "metadata": {},
   "source": [
    "# 1. Introduction\n",
    "\n",
    "Supervised learning methods used for classification, regression and outliers detection.\n",
    "\n",
    "Let's assume we have two classes here - black and purple. In classification, we are interested in the best way to separate the two classes. "
   ]
  },
  {
   "cell_type": "markdown",
   "metadata": {},
   "source": [
    "<img src=\"img\\SVM 1.png\" height=50% width=50%>"
   ]
  },
  {
   "cell_type": "markdown",
   "metadata": {},
   "source": [
    "We can separate them with a line such as the example below. You can consider this as an example of how logistic regression would segregate the two classes."
   ]
  },
  {
   "cell_type": "markdown",
   "metadata": {},
   "source": [
    "<img src=\"img\\SVM 2.png\" height=50% width=50%>"
   ]
  },
  {
   "cell_type": "markdown",
   "metadata": {},
   "source": [
    "However, there are infinite lines (in 2-dimensional space) or hyperplanes (in 3-dimensional space) that can be used to separate the two classes as the example below illustrates. \n",
    "\n",
    "The term hyperplane essentially means it is a subspace of one dimension less than its ambient space. If a space is 3-dimensional then its hyperplanes are the 2-dimensional planes, while if the space is 2-dimensional, its hyperplanes are the 1-dimensional lines. ~ [Wikipedia](https://en.wikipedia.org/wiki/Hyperplane)"
   ]
  },
  {
   "cell_type": "markdown",
   "metadata": {},
   "source": [
    "<img src=\"img\\SVM 3.png\" height=50% width=50%>"
   ]
  },
  {
   "cell_type": "markdown",
   "metadata": {},
   "source": [
    "In SVM, the **separating line**, the solid brown line, is the line that allows for largest margin between the two classes. \n",
    "\n",
    "SVM would place the separating line in the middle of the margin, also called maximum margin. SVM will optimise and locate the hyperplane that maximises the margin of the two classes.\n",
    "\n",
    "The samples that are closest to the hyperplane are called **support vectors**, circled in red. "
   ]
  },
  {
   "cell_type": "markdown",
   "metadata": {},
   "source": [
    "<img src=\"img\\SVM 4.png\" height=50% width=50%>"
   ]
  },
  {
   "cell_type": "markdown",
   "metadata": {},
   "source": [
    "***\n",
    "# 2. Linear SVM Classification\n",
    "\n",
    "\n",
    "* Support Vectors\n",
    "\n",
    "* Separate with a straight line (linearly separable)\n",
    "\n",
    "* Margin\n",
    "\n",
    "  * Hard margin classification\n",
    "      * Strictly based on those that are at the margin between the two classes\n",
    "      * However, this is sensitive to outliers\n",
    "      \n",
    "  * Soft margin classification\n",
    "      * Widen the margin and allows for violation\n",
    "      * With Python Scikit-Learn, you control the width of the margin\n",
    "      * Control with `C` hyperparameter\n",
    "        * smaller `C` leads to a wider street but more margin violations\n",
    "        * High `C` - fewer margin violations but ends up with a smaller margin\n",
    "\n",
    "\n",
    "\n",
    "**Note:**\n",
    "\n",
    "* SVM are sensitive to feature scaling\n"
   ]
  },
  {
   "cell_type": "code",
   "execution_count": 57,
   "metadata": {
    "collapsed": true
   },
   "outputs": [],
   "source": [
    "import numpy as np\n",
    "import pandas as pd\n",
    "import seaborn as sns\n",
    "from sklearn import datasets\n",
    "from sklearn import svm\n",
    "import matplotlib.pyplot as plt\n",
    "%matplotlib inline\n",
    "sns.set_style('whitegrid')"
   ]
  },
  {
   "cell_type": "code",
   "execution_count": 58,
   "metadata": {},
   "outputs": [
    {
     "data": {
      "text/html": [
       "<div>\n",
       "<style>\n",
       "    .dataframe thead tr:only-child th {\n",
       "        text-align: right;\n",
       "    }\n",
       "\n",
       "    .dataframe thead th {\n",
       "        text-align: left;\n",
       "    }\n",
       "\n",
       "    .dataframe tbody tr th {\n",
       "        vertical-align: top;\n",
       "    }\n",
       "</style>\n",
       "<table border=\"1\" class=\"dataframe\">\n",
       "  <thead>\n",
       "    <tr style=\"text-align: right;\">\n",
       "      <th></th>\n",
       "      <th>sepal_length</th>\n",
       "      <th>sepal_width</th>\n",
       "      <th>petal_length</th>\n",
       "      <th>petal_width</th>\n",
       "      <th>species</th>\n",
       "    </tr>\n",
       "  </thead>\n",
       "  <tbody>\n",
       "    <tr>\n",
       "      <th>0</th>\n",
       "      <td>5.1</td>\n",
       "      <td>3.5</td>\n",
       "      <td>1.4</td>\n",
       "      <td>0.2</td>\n",
       "      <td>setosa</td>\n",
       "    </tr>\n",
       "    <tr>\n",
       "      <th>1</th>\n",
       "      <td>4.9</td>\n",
       "      <td>3.0</td>\n",
       "      <td>1.4</td>\n",
       "      <td>0.2</td>\n",
       "      <td>setosa</td>\n",
       "    </tr>\n",
       "    <tr>\n",
       "      <th>2</th>\n",
       "      <td>4.7</td>\n",
       "      <td>3.2</td>\n",
       "      <td>1.3</td>\n",
       "      <td>0.2</td>\n",
       "      <td>setosa</td>\n",
       "    </tr>\n",
       "    <tr>\n",
       "      <th>3</th>\n",
       "      <td>4.6</td>\n",
       "      <td>3.1</td>\n",
       "      <td>1.5</td>\n",
       "      <td>0.2</td>\n",
       "      <td>setosa</td>\n",
       "    </tr>\n",
       "    <tr>\n",
       "      <th>4</th>\n",
       "      <td>5.0</td>\n",
       "      <td>3.6</td>\n",
       "      <td>1.4</td>\n",
       "      <td>0.2</td>\n",
       "      <td>setosa</td>\n",
       "    </tr>\n",
       "  </tbody>\n",
       "</table>\n",
       "</div>"
      ],
      "text/plain": [
       "   sepal_length  sepal_width  petal_length  petal_width species\n",
       "0           5.1          3.5           1.4          0.2  setosa\n",
       "1           4.9          3.0           1.4          0.2  setosa\n",
       "2           4.7          3.2           1.3          0.2  setosa\n",
       "3           4.6          3.1           1.5          0.2  setosa\n",
       "4           5.0          3.6           1.4          0.2  setosa"
      ]
     },
     "execution_count": 58,
     "metadata": {},
     "output_type": "execute_result"
    }
   ],
   "source": [
    "df = pd.read_csv('iris.csv')\n",
    "#df = pd.read_csv('iris.data', header=-1)\n",
    "#df = sns.load_dataset('iris.csv')\n",
    "df.head()"
   ]
  },
  {
   "cell_type": "code",
   "execution_count": 59,
   "metadata": {},
   "outputs": [
    {
     "data": {
      "text/html": [
       "<div>\n",
       "<style>\n",
       "    .dataframe thead tr:only-child th {\n",
       "        text-align: right;\n",
       "    }\n",
       "\n",
       "    .dataframe thead th {\n",
       "        text-align: left;\n",
       "    }\n",
       "\n",
       "    .dataframe tbody tr th {\n",
       "        vertical-align: top;\n",
       "    }\n",
       "</style>\n",
       "<table border=\"1\" class=\"dataframe\">\n",
       "  <thead>\n",
       "    <tr style=\"text-align: right;\">\n",
       "      <th></th>\n",
       "      <th>petal_length</th>\n",
       "      <th>petal_width</th>\n",
       "      <th>species</th>\n",
       "    </tr>\n",
       "  </thead>\n",
       "  <tbody>\n",
       "    <tr>\n",
       "      <th>0</th>\n",
       "      <td>1.4</td>\n",
       "      <td>0.2</td>\n",
       "      <td>setosa</td>\n",
       "    </tr>\n",
       "    <tr>\n",
       "      <th>1</th>\n",
       "      <td>1.4</td>\n",
       "      <td>0.2</td>\n",
       "      <td>setosa</td>\n",
       "    </tr>\n",
       "    <tr>\n",
       "      <th>2</th>\n",
       "      <td>1.3</td>\n",
       "      <td>0.2</td>\n",
       "      <td>setosa</td>\n",
       "    </tr>\n",
       "    <tr>\n",
       "      <th>3</th>\n",
       "      <td>1.5</td>\n",
       "      <td>0.2</td>\n",
       "      <td>setosa</td>\n",
       "    </tr>\n",
       "    <tr>\n",
       "      <th>4</th>\n",
       "      <td>1.4</td>\n",
       "      <td>0.2</td>\n",
       "      <td>setosa</td>\n",
       "    </tr>\n",
       "  </tbody>\n",
       "</table>\n",
       "</div>"
      ],
      "text/plain": [
       "   petal_length  petal_width species\n",
       "0           1.4          0.2  setosa\n",
       "1           1.4          0.2  setosa\n",
       "2           1.3          0.2  setosa\n",
       "3           1.5          0.2  setosa\n",
       "4           1.4          0.2  setosa"
      ]
     },
     "execution_count": 59,
     "metadata": {},
     "output_type": "execute_result"
    }
   ],
   "source": [
    "col = ['petal_length', 'petal_width', 'species']\n",
    "df.loc[:, col].head()"
   ]
  },
  {
   "cell_type": "code",
   "execution_count": 60,
   "metadata": {},
   "outputs": [
    {
     "data": {
      "text/plain": [
       "array(['setosa', 'versicolor', 'virginica'], dtype=object)"
      ]
     },
     "execution_count": 60,
     "metadata": {},
     "output_type": "execute_result"
    }
   ],
   "source": [
    "df.species.unique()"
   ]
  },
  {
   "cell_type": "code",
   "execution_count": 61,
   "metadata": {
    "collapsed": true
   },
   "outputs": [],
   "source": [
    "col = ['petal_length', 'petal_width']\n",
    "X = df.loc[:, col]"
   ]
  },
  {
   "cell_type": "code",
   "execution_count": 62,
   "metadata": {
    "collapsed": true
   },
   "outputs": [],
   "source": [
    "species_to_num = {'setosa': 0,\n",
    "                  'versicolor': 1,\n",
    "                  'virginica': 2}\n",
    "df['tmp'] = df['species'].map(species_to_num)\n",
    "y = df['tmp']"
   ]
  },
  {
   "cell_type": "markdown",
   "metadata": {},
   "source": [
    "Documentations on each:\n",
    "\n",
    "* [LinearSVC](http://scikit-learn.org/stable/modules/generated/sklearn.svm.LinearSVC.html#sklearn.svm.LinearSVC)\n",
    "\n",
    "  Similar to SVC with parameter kernel=’linear’, but implemented in terms of liblinear rather than libsvm, so it has more flexibility in the choice of penalties and loss functions and should scale better to large numbers of samples.\n",
    "  \n",
    "  \n",
    "  \n",
    "* [SVC](http://scikit-learn.org/stable/modules/generated/sklearn.svm.SVC.html#sklearn.svm.SVC)\n",
    "\n",
    "  C-Support Vector Classification.\n",
    "  \n",
    "  The implementation is based on libsvm. The fit time complexity is more than quadratic with the number of samples which makes it hard to scale to dataset with more than a couple of 10000 samples."
   ]
  },
  {
   "cell_type": "code",
   "execution_count": 63,
   "metadata": {},
   "outputs": [
    {
     "data": {
      "text/plain": [
       "SVC(C=0.001, cache_size=200, class_weight=None, coef0=0.0,\n",
       "  decision_function_shape='ovr', degree=3, gamma='auto', kernel='linear',\n",
       "  max_iter=-1, probability=False, random_state=None, shrinking=True,\n",
       "  tol=0.001, verbose=False)"
      ]
     },
     "execution_count": 63,
     "metadata": {},
     "output_type": "execute_result"
    }
   ],
   "source": [
    "C = 0.001\n",
    "clf = svm.SVC(kernel='linear', C=C)\n",
    "#clf = svm.LinearSVC(C=C, loss='hinge')\n",
    "#clf = svm.SVC(kernel='poly', degree=3, C=C)\n",
    "#clf = svm.SVC(kernel='rbf', gamma=0.7, C=C)\n",
    "clf.fit(X, y)"
   ]
  },
  {
   "cell_type": "code",
   "execution_count": 64,
   "metadata": {},
   "outputs": [
    {
     "data": {
      "text/plain": [
       "array([2], dtype=int64)"
      ]
     },
     "execution_count": 64,
     "metadata": {},
     "output_type": "execute_result"
    }
   ],
   "source": [
    "clf.predict([[6, 2]])"
   ]
  },
  {
   "cell_type": "code",
   "execution_count": 65,
   "metadata": {
    "collapsed": true
   },
   "outputs": [],
   "source": [
    "Xv = X.values.reshape(-1,1)\n",
    "h = 0.02\n",
    "x_min, x_max = Xv.min(), Xv.max() + 1\n",
    "y_min, y_max = y.min(), y.max() + 1\n",
    "xx, yy = np.meshgrid(np.arange(x_min, x_max, h),\n",
    "                     np.arange(y_min, y_max, h))"
   ]
  },
  {
   "cell_type": "code",
   "execution_count": 66,
   "metadata": {},
   "outputs": [
    {
     "data": {
      "image/png": "[encoded data removed]",
      "text/plain": [
       "<matplotlib.figure.Figure at 0xccb96d8>"
      ]
     },
     "metadata": {},
     "output_type": "display_data"
    }
   ],
   "source": [
    "z = clf.predict(np.c_[xx.ravel(), yy.ravel()])\n",
    "z = z.reshape(xx.shape)\n",
    "fig = plt.figure(figsize=(16,10))\n",
    "ax = plt.contourf(xx, yy, z, cmap = 'afmhot', alpha=0.3);\n",
    "plt.scatter(X.values[:, 0], X.values[:, 1], c=y, s=80, \n",
    "            alpha=0.9, edgecolors='g');"
   ]
  },
  {
   "cell_type": "code",
   "execution_count": 67,
   "metadata": {},
   "outputs": [
    {
     "data": {
      "image/png": "[encoded data removed]",
      "text/plain": [
       "<matplotlib.figure.Figure at 0xca1ea58>"
      ]
     },
     "metadata": {},
     "output_type": "display_data"
    }
   ],
   "source": [
    "z = clf.predict(np.c_[xx.ravel(), yy.ravel()])\n",
    "z = z.reshape(xx.shape)\n",
    "fig = plt.figure(figsize=(16,10))\n",
    "ax = plt.contourf(xx, yy, z, cmap = 'afmhot', alpha=0.3);\n",
    "plt.scatter(X.values[:, 0], X.values[:, 1], c=y, s=80, \n",
    "            alpha=0.9, edgecolors='g');"
   ]
  },
  {
   "cell_type": "markdown",
   "metadata": {},
   "source": [
    "<img src='img\\iris - petal length and width.png' width=60%, height=40%>"
   ]
  },
  {
   "cell_type": "markdown",
   "metadata": {},
   "source": [
    "## Linear SVM Implementation"
   ]
  },
  {
   "cell_type": "code",
   "execution_count": 68,
   "metadata": {},
   "outputs": [
    {
     "name": "stderr",
     "output_type": "stream",
     "text": [
      "C:\\Users\\N35457.US\\AppData\\Roaming\\Continuum\\anaconda3\\lib\\site-packages\\sklearn\\model_selection\\_split.py:2026: FutureWarning: From version 0.21, test_size will always complement train_size unless both are specified.\n",
      "  FutureWarning)\n"
     ]
    }
   ],
   "source": [
    "#df = sns.load_dataset('iris')\n",
    "df = pd.read_csv('iris.csv')\n",
    "from sklearn.model_selection import train_test_split\n",
    "from sklearn.preprocessing import StandardScaler\n",
    "col = ['petal_length', 'petal_width']\n",
    "X = df.loc[:, col]\n",
    "species_to_num = {'setosa': 0,\n",
    "                  'versicolor': 1,\n",
    "                  'virginica': 2}\n",
    "df['tmp'] = df['species'].map(species_to_num)\n",
    "y = df['tmp']\n",
    "X_train, X_test, y_train, y_test = train_test_split(X, y,\n",
    "                                                    train_size=0.8, \n",
    "                                                    random_state=0)"
   ]
  },
  {
   "cell_type": "markdown",
   "metadata": {},
   "source": [
    "#### Scale Features"
   ]
  },
  {
   "cell_type": "code",
   "execution_count": 69,
   "metadata": {
    "collapsed": true
   },
   "outputs": [],
   "source": [
    "sc_x = StandardScaler()\n",
    "X_std_train = sc_x.fit_transform(X_train)"
   ]
  },
  {
   "cell_type": "code",
   "execution_count": 70,
   "metadata": {},
   "outputs": [
    {
     "data": {
      "text/plain": [
       "SVC(C=1.0, cache_size=200, class_weight=None, coef0=0.0,\n",
       "  decision_function_shape='ovr', degree=3, gamma='auto', kernel='linear',\n",
       "  max_iter=-1, probability=False, random_state=None, shrinking=True,\n",
       "  tol=0.001, verbose=False)"
      ]
     },
     "execution_count": 70,
     "metadata": {},
     "output_type": "execute_result"
    }
   ],
   "source": [
    "C = 1.0 #0.01\n",
    "clf = svm.SVC(kernel='linear', C=C)\n",
    "clf.fit(X_std_train, y_train)"
   ]
  },
  {
   "cell_type": "code",
   "execution_count": 71,
   "metadata": {
    "collapsed": true
   },
   "outputs": [],
   "source": [
    "from sklearn.model_selection import cross_val_score\n",
    "from sklearn.model_selection import cross_val_predict\n",
    "from sklearn.metrics import confusion_matrix\n",
    "from sklearn.metrics import precision_score, recall_score, f1_score"
   ]
  },
  {
   "cell_type": "markdown",
   "metadata": {},
   "source": [
    "#### Cross Validation within Train Dataset"
   ]
  },
  {
   "cell_type": "code",
   "execution_count": 72,
   "metadata": {},
   "outputs": [
    {
     "name": "stdout",
     "output_type": "stream",
     "text": [
      "Average Accuracy: \t 0.9501\n",
      "Accuracy SD: \t\t 0.0538\n"
     ]
    }
   ],
   "source": [
    "res = cross_val_score(clf, X_std_train, y_train, cv=10, scoring='accuracy')\n",
    "print(\"Average Accuracy: \\t {0:.4f}\".format(np.mean(res)))\n",
    "print(\"Accuracy SD: \\t\\t {0:.4f}\".format(np.std(res)))"
   ]
  },
  {
   "cell_type": "code",
   "execution_count": 73,
   "metadata": {
    "collapsed": true
   },
   "outputs": [],
   "source": [
    "y_train_pred = cross_val_predict(clf, X_std_train, y_train, cv=3)"
   ]
  },
  {
   "cell_type": "code",
   "execution_count": 74,
   "metadata": {},
   "outputs": [
    {
     "data": {
      "text/plain": [
       "array([[39,  0,  0],\n",
       "       [ 0, 34,  3],\n",
       "       [ 0,  3, 41]], dtype=int64)"
      ]
     },
     "execution_count": 74,
     "metadata": {},
     "output_type": "execute_result"
    }
   ],
   "source": [
    "confusion_matrix(y_train, y_train_pred)"
   ]
  },
  {
   "cell_type": "code",
   "execution_count": 75,
   "metadata": {},
   "outputs": [
    {
     "name": "stdout",
     "output_type": "stream",
     "text": [
      "Precision Score: \t 0.9500\n",
      "Recall Score: \t\t 0.9500\n",
      "F1 Score: \t\t 0.9500\n"
     ]
    }
   ],
   "source": [
    "print(\"Precision Score: \\t {0:.4f}\".format(precision_score(y_train, \n",
    "                                                           y_train_pred, \n",
    "                                                           average='weighted')))\n",
    "print(\"Recall Score: \\t\\t {0:.4f}\".format(recall_score(y_train,\n",
    "                                                     y_train_pred, \n",
    "                                                     average='weighted')))\n",
    "print(\"F1 Score: \\t\\t {0:.4f}\".format(f1_score(y_train,\n",
    "                                             y_train_pred, \n",
    "                                             average='weighted')))"
   ]
  },
  {
   "cell_type": "markdown",
   "metadata": {},
   "source": [
    "#### Cross Validation within Test Dataset"
   ]
  },
  {
   "cell_type": "code",
   "execution_count": 76,
   "metadata": {
    "collapsed": true
   },
   "outputs": [],
   "source": [
    "y_test_pred = cross_val_predict(clf, sc_x.transform(X_test), y_test, cv=3)"
   ]
  },
  {
   "cell_type": "code",
   "execution_count": 77,
   "metadata": {},
   "outputs": [
    {
     "data": {
      "text/plain": [
       "array([[11,  0,  0],\n",
       "       [ 0, 13,  0],\n",
       "       [ 0,  2,  4]], dtype=int64)"
      ]
     },
     "execution_count": 77,
     "metadata": {},
     "output_type": "execute_result"
    }
   ],
   "source": [
    "confusion_matrix(y_test, y_test_pred)"
   ]
  },
  {
   "cell_type": "code",
   "execution_count": 78,
   "metadata": {},
   "outputs": [
    {
     "name": "stdout",
     "output_type": "stream",
     "text": [
      "Precision Score: \t 0.9422\n",
      "Recall Score: \t\t 0.9333\n",
      "F1 Score: \t\t 0.9290\n"
     ]
    }
   ],
   "source": [
    "print(\"Precision Score: \\t {0:.4f}\".format(precision_score(y_test, \n",
    "                                                           y_test_pred, \n",
    "                                                           average='weighted')))\n",
    "print(\"Recall Score: \\t\\t {0:.4f}\".format(recall_score(y_test,\n",
    "                                                     y_test_pred, \n",
    "                                                     average='weighted')))\n",
    "print(\"F1 Score: \\t\\t {0:.4f}\".format(f1_score(y_test,\n",
    "                                             y_test_pred, \n",
    "                                             average='weighted')))"
   ]
  },
  {
   "cell_type": "markdown",
   "metadata": {},
   "source": [
    "***\n",
    "# 3. Polynomial Kernel"
   ]
  },
  {
   "cell_type": "markdown",
   "metadata": {
    "collapsed": true
   },
   "source": [
    "<img src='img\\polynomial.png'>"
   ]
  },
  {
   "cell_type": "code",
   "execution_count": 79,
   "metadata": {},
   "outputs": [
    {
     "data": {
      "text/plain": [
       "SVC(C=1.0, cache_size=200, class_weight=None, coef0=0.0,\n",
       "  decision_function_shape='ovr', degree=3, gamma='auto', kernel='poly',\n",
       "  max_iter=-1, probability=False, random_state=None, shrinking=True,\n",
       "  tol=0.001, verbose=False)"
      ]
     },
     "execution_count": 79,
     "metadata": {},
     "output_type": "execute_result"
    }
   ],
   "source": [
    "C = 1.0\n",
    "clf = svm.SVC(kernel='poly', degree=3, C=C)\n",
    "clf.fit(X, y)"
   ]
  },
  {
   "cell_type": "code",
   "execution_count": 80,
   "metadata": {
    "collapsed": true
   },
   "outputs": [],
   "source": [
    "Xv = X.values.reshape(-1,1)\n",
    "h = 0.02\n",
    "x_min, x_max = Xv.min(), Xv.max() + 1\n",
    "y_min, y_max = y.min(), y.max() + 1\n",
    "xx, yy = np.meshgrid(np.arange(x_min, x_max, h),\n",
    "                     np.arange(y_min, y_max, h))"
   ]
  },
  {
   "cell_type": "code",
   "execution_count": 81,
   "metadata": {},
   "outputs": [
    {
     "data": {
      "image/png": "[encoded data removed]",
      "text/plain": [
       "<matplotlib.figure.Figure at 0xc722be0>"
      ]
     },
     "metadata": {},
     "output_type": "display_data"
    }
   ],
   "source": [
    "z = clf.predict(np.c_[xx.ravel(), yy.ravel()])\n",
    "z = z.reshape(xx.shape)\n",
    "fig = plt.figure(figsize=(16,10))\n",
    "ax = plt.contourf(xx, yy, z, cmap = 'afmhot', alpha=0.3);\n",
    "plt.scatter(X.values[:, 0], X.values[:, 1], c=y, s=80, \n",
    "            alpha=0.9, edgecolors='g');"
   ]
  },
  {
   "cell_type": "markdown",
   "metadata": {},
   "source": [
    "## Polynomial SVM Implementation"
   ]
  },
  {
   "cell_type": "code",
   "execution_count": 82,
   "metadata": {},
   "outputs": [
    {
     "name": "stderr",
     "output_type": "stream",
     "text": [
      "C:\\Users\\N35457.US\\AppData\\Roaming\\Continuum\\anaconda3\\lib\\site-packages\\sklearn\\model_selection\\_split.py:2026: FutureWarning: From version 0.21, test_size will always complement train_size unless both are specified.\n",
      "  FutureWarning)\n"
     ]
    }
   ],
   "source": [
    "#df = sns.load_dataset('iris')\n",
    "df = pd.read_csv('iris.csv')\n",
    "from sklearn.model_selection import train_test_split\n",
    "from sklearn.preprocessing import StandardScaler\n",
    "col = ['petal_length', 'petal_width']\n",
    "X = df.loc[:, col]\n",
    "species_to_num = {'setosa': 0,\n",
    "                  'versicolor': 1,\n",
    "                  'virginica': 2}\n",
    "df['tmp'] = df['species'].map(species_to_num)\n",
    "y = df['tmp']\n",
    "X_train, X_std_test, y_train, y_test = train_test_split(X, y,\n",
    "                                                        train_size=0.8, \n",
    "                                                        random_state=0)\n",
    "\n",
    "# Change the training testing ratio to 60%\n",
    "#X_train, X_std_test, y_train, y_test = train_test_split(X, y,\n",
    "#                                                        train_size=0.6, \n",
    "#                                                        random_state=0)"
   ]
  },
  {
   "cell_type": "markdown",
   "metadata": {},
   "source": [
    "#### Scale Features"
   ]
  },
  {
   "cell_type": "code",
   "execution_count": 83,
   "metadata": {
    "collapsed": true
   },
   "outputs": [],
   "source": [
    "sc_x = StandardScaler()\n",
    "X_std_train = sc_x.fit_transform(X_train)"
   ]
  },
  {
   "cell_type": "code",
   "execution_count": 84,
   "metadata": {},
   "outputs": [
    {
     "data": {
      "text/plain": [
       "SVC(C=1.0, cache_size=200, class_weight=None, coef0=0.0,\n",
       "  decision_function_shape='ovr', degree=10, gamma='auto', kernel='poly',\n",
       "  max_iter=-1, probability=False, random_state=None, shrinking=True,\n",
       "  tol=0.001, verbose=False)"
      ]
     },
     "execution_count": 84,
     "metadata": {},
     "output_type": "execute_result"
    }
   ],
   "source": [
    "C = 1.0 #0.01\n",
    "clf = svm.SVC(kernel='poly', degree=10, C=C) #5\n",
    "\n",
    "# Try changing hyperparameter C to 0.01 which should change the margins, and the polynomial degrees to 5\n",
    "#C = 0.01\n",
    "#clf = svm.SVC(kernel='poly', degree=5, C=C) #5\n",
    "\n",
    "clf.fit(X_std_train, y_train)"
   ]
  },
  {
   "cell_type": "markdown",
   "metadata": {},
   "source": [
    "#### Cross Validation within Train Dataset"
   ]
  },
  {
   "cell_type": "code",
   "execution_count": 85,
   "metadata": {},
   "outputs": [
    {
     "name": "stdout",
     "output_type": "stream",
     "text": [
      "Average Accuracy: \t 0.7864\n",
      "Accuracy SD: \t\t 0.1283\n"
     ]
    }
   ],
   "source": [
    "res = cross_val_score(clf, X_std_train, y_train, cv=10, scoring='accuracy')\n",
    "print(\"Average Accuracy: \\t {0:.4f}\".format(np.mean(res)))\n",
    "print(\"Accuracy SD: \\t\\t {0:.4f}\".format(np.std(res)))"
   ]
  },
  {
   "cell_type": "code",
   "execution_count": 86,
   "metadata": {
    "collapsed": true
   },
   "outputs": [],
   "source": [
    "y_train_pred = cross_val_predict(clf, X_std_train, y_train, cv=3)"
   ]
  },
  {
   "cell_type": "code",
   "execution_count": 87,
   "metadata": {},
   "outputs": [
    {
     "data": {
      "text/plain": [
       "array([[35,  0,  4],\n",
       "       [ 0, 37,  0],\n",
       "       [ 7, 18, 19]], dtype=int64)"
      ]
     },
     "execution_count": 87,
     "metadata": {},
     "output_type": "execute_result"
    }
   ],
   "source": [
    "confusion_matrix(y_train, y_train_pred)"
   ]
  },
  {
   "cell_type": "code",
   "execution_count": 88,
   "metadata": {},
   "outputs": [
    {
     "name": "stdout",
     "output_type": "stream",
     "text": [
      "Precision Score: \t 0.7812\n",
      "Recall Score: \t\t 0.7583\n",
      "F1 Score: \t\t 0.7368\n"
     ]
    }
   ],
   "source": [
    "print(\"Precision Score: \\t {0:.4f}\".format(precision_score(y_train, \n",
    "                                                           y_train_pred, \n",
    "                                                           average='weighted')))\n",
    "print(\"Recall Score: \\t\\t {0:.4f}\".format(recall_score(y_train,\n",
    "                                                     y_train_pred, \n",
    "                                                     average='weighted')))\n",
    "print(\"F1 Score: \\t\\t {0:.4f}\".format(f1_score(y_train,\n",
    "                                             y_train_pred, \n",
    "                                             average='weighted')))"
   ]
  },
  {
   "cell_type": "markdown",
   "metadata": {},
   "source": [
    "#### Cross Validation within Test Dataset"
   ]
  },
  {
   "cell_type": "code",
   "execution_count": 89,
   "metadata": {
    "collapsed": true
   },
   "outputs": [],
   "source": [
    "y_test_pred = cross_val_predict(clf, sc_x.transform(X_test), y_test, cv=3)"
   ]
  },
  {
   "cell_type": "code",
   "execution_count": 90,
   "metadata": {},
   "outputs": [
    {
     "data": {
      "text/plain": [
       "array([[10,  0,  1],\n",
       "       [ 0, 13,  0],\n",
       "       [ 3,  3,  0]], dtype=int64)"
      ]
     },
     "execution_count": 90,
     "metadata": {},
     "output_type": "execute_result"
    }
   ],
   "source": [
    "confusion_matrix(y_test, y_test_pred)"
   ]
  },
  {
   "cell_type": "code",
   "execution_count": 91,
   "metadata": {},
   "outputs": [
    {
     "name": "stdout",
     "output_type": "stream",
     "text": [
      "Precision Score: \t 0.6341\n",
      "Recall Score: \t\t 0.7667\n",
      "F1 Score: \t\t 0.6941\n"
     ]
    }
   ],
   "source": [
    "print(\"Precision Score: \\t {0:.4f}\".format(precision_score(y_test, \n",
    "                                                           y_test_pred, \n",
    "                                                           average='weighted')))\n",
    "print(\"Recall Score: \\t\\t {0:.4f}\".format(recall_score(y_test,\n",
    "                                                     y_test_pred, \n",
    "                                                     average='weighted')))\n",
    "print(\"F1 Score: \\t\\t {0:.4f}\".format(f1_score(y_test,\n",
    "                                             y_test_pred, \n",
    "                                             average='weighted')))"
   ]
  },
  {
   "cell_type": "markdown",
   "metadata": {},
   "source": [
    "***\n",
    "# 4. Gaussian Radial Basis Function (rbf)"
   ]
  },
  {
   "cell_type": "markdown",
   "metadata": {},
   "source": [
    "The kernel function can be any of the following:\n",
    "\n",
    "* **linear**: $\\langle x, x'\\rangle$.\n",
    "\n",
    "\n",
    "* **polynomial**: $(\\gamma \\langle x, x'\\rangle + r)^d$. \n",
    "\n",
    "  $d$ is specified by keyword `degree`\n",
    "  \n",
    "  $r$ by `coef0`.\n",
    "\n",
    "\n",
    "* **rbf**: $\\exp(-\\gamma \\|x-x'\\|^2)$. \n",
    "\n",
    "  $\\gamma$ is specified by keyword `gamma` must be greater than 0.\n",
    "\n",
    "\n",
    "* **sigmoid** $(\\tanh(\\gamma \\langle x,x'\\rangle + r))$\n",
    "\n",
    "  where $r$ is specified by `coef0`.\n",
    "  \n",
    "[scikit-learn documentation](http://scikit-learn.org/stable/modules/svm.html#svm)"
   ]
  },
  {
   "cell_type": "code",
   "execution_count": 92,
   "metadata": {},
   "outputs": [
    {
     "name": "stderr",
     "output_type": "stream",
     "text": [
      "C:\\Users\\N35457.US\\AppData\\Roaming\\Continuum\\anaconda3\\lib\\site-packages\\sklearn\\model_selection\\_split.py:2026: FutureWarning: From version 0.21, test_size will always complement train_size unless both are specified.\n",
      "  FutureWarning)\n"
     ]
    }
   ],
   "source": [
    "#df = sns.load_dataset('iris')\n",
    "df = pd.read_csv('iris.csv')\n",
    "from sklearn.model_selection import train_test_split\n",
    "from sklearn.preprocessing import StandardScaler\n",
    "col = ['petal_length', 'petal_width']\n",
    "X = df.loc[:, col]\n",
    "species_to_num = {'setosa': 0,\n",
    "                  'versicolor': 1,\n",
    "                  'virginica': 2}\n",
    "df['tmp'] = df['species'].map(species_to_num)\n",
    "y = df['tmp']\n",
    "#X_train, X_test, y_train, y_test = train_test_split(X, y,\n",
    "#                                                    train_size=0.8, \n",
    "#                                                    random_state=0) \n",
    "\n",
    "# Try changing the training testing ratio to 60% -- Outcome: misclassified several\n",
    "X_train, X_test, y_train, y_test = train_test_split(X, y,\n",
    "                                                    train_size=0.6, \n",
    "                                                    random_state=0) #0.6"
   ]
  },
  {
   "cell_type": "markdown",
   "metadata": {},
   "source": [
    "#### Scale Features"
   ]
  },
  {
   "cell_type": "code",
   "execution_count": 93,
   "metadata": {
    "collapsed": true
   },
   "outputs": [],
   "source": [
    "sc_x = StandardScaler()\n",
    "X_std_train = sc_x.fit_transform(X_train)"
   ]
  },
  {
   "cell_type": "code",
   "execution_count": 94,
   "metadata": {},
   "outputs": [
    {
     "data": {
      "text/plain": [
       "SVC(C=1.0, cache_size=200, class_weight=None, coef0=0.0,\n",
       "  decision_function_shape='ovr', degree=3, gamma=0.7, kernel='rbf',\n",
       "  max_iter=-1, probability=False, random_state=None, shrinking=True,\n",
       "  tol=0.001, verbose=False)"
      ]
     },
     "execution_count": 94,
     "metadata": {},
     "output_type": "execute_result"
    }
   ],
   "source": [
    "C = 1.0\n",
    "clf = svm.SVC(kernel='rbf', gamma=0.7, C=C)\n",
    "clf.fit(X_std_train, y_train)"
   ]
  },
  {
   "cell_type": "markdown",
   "metadata": {},
   "source": [
    "#### Cross Validation within Train Dataset"
   ]
  },
  {
   "cell_type": "code",
   "execution_count": 95,
   "metadata": {},
   "outputs": [
    {
     "name": "stdout",
     "output_type": "stream",
     "text": [
      "Average Accuracy: \t 0.9764\n",
      "Accuracy SD: \t\t 0.0473\n"
     ]
    }
   ],
   "source": [
    "res = cross_val_score(clf, X_std_train, y_train, cv=10, scoring='accuracy')\n",
    "print(\"Average Accuracy: \\t {0:.4f}\".format(np.mean(res)))\n",
    "print(\"Accuracy SD: \\t\\t {0:.4f}\".format(np.std(res)))"
   ]
  },
  {
   "cell_type": "code",
   "execution_count": 96,
   "metadata": {
    "collapsed": true
   },
   "outputs": [],
   "source": [
    "y_train_pred = cross_val_predict(clf, X_std_train, y_train, cv=3)"
   ]
  },
  {
   "cell_type": "code",
   "execution_count": 97,
   "metadata": {},
   "outputs": [
    {
     "data": {
      "text/plain": [
       "array([[34,  0,  0],\n",
       "       [ 0, 25,  2],\n",
       "       [ 0,  0, 29]], dtype=int64)"
      ]
     },
     "execution_count": 97,
     "metadata": {},
     "output_type": "execute_result"
    }
   ],
   "source": [
    "confusion_matrix(y_train, y_train_pred)"
   ]
  },
  {
   "cell_type": "code",
   "execution_count": 98,
   "metadata": {},
   "outputs": [
    {
     "name": "stdout",
     "output_type": "stream",
     "text": [
      "Precision Score: \t 0.9792\n",
      "Recall Score: \t\t 0.9778\n",
      "F1 Score: \t\t 0.9777\n"
     ]
    }
   ],
   "source": [
    "print(\"Precision Score: \\t {0:.4f}\".format(precision_score(y_train, \n",
    "                                                           y_train_pred, \n",
    "                                                           average='weighted')))\n",
    "print(\"Recall Score: \\t\\t {0:.4f}\".format(recall_score(y_train,\n",
    "                                                     y_train_pred, \n",
    "                                                     average='weighted')))\n",
    "print(\"F1 Score: \\t\\t {0:.4f}\".format(f1_score(y_train,\n",
    "                                             y_train_pred, \n",
    "                                             average='weighted')))"
   ]
  },
  {
   "cell_type": "markdown",
   "metadata": {},
   "source": [
    "### Grid Search"
   ]
  },
  {
   "cell_type": "code",
   "execution_count": 99,
   "metadata": {
    "collapsed": true
   },
   "outputs": [],
   "source": [
    "from sklearn.pipeline import Pipeline "
   ]
  },
  {
   "cell_type": "code",
   "execution_count": 100,
   "metadata": {
    "collapsed": true
   },
   "outputs": [],
   "source": [
    "from sklearn.model_selection import train_test_split, GridSearchCV "
   ]
  },
  {
   "cell_type": "markdown",
   "metadata": {},
   "source": [
    "we can improve this by scaling the features"
   ]
  },
  {
   "cell_type": "code",
   "execution_count": 101,
   "metadata": {
    "collapsed": true
   },
   "outputs": [],
   "source": [
    "pipeline = Pipeline([('clf', svm.SVC(kernel='rbf', C=1, gamma=0.1))]) "
   ]
  },
  {
   "cell_type": "code",
   "execution_count": 102,
   "metadata": {
    "collapsed": true
   },
   "outputs": [],
   "source": [
    "params = {'clf__C':(0.1, 0.5, 1, 2, 5, 10, 20), \n",
    "          'clf__gamma':(0.001, 0.01, 0.1, 0.25, 0.5, 0.75, 1)} "
   ]
  },
  {
   "cell_type": "code",
   "execution_count": 103,
   "metadata": {
    "collapsed": true
   },
   "outputs": [],
   "source": [
    "svm_grid_rbf = GridSearchCV(pipeline, params, n_jobs=-1,\n",
    "                            cv=3, verbose=1, scoring='accuracy') "
   ]
  },
  {
   "cell_type": "code",
   "execution_count": 104,
   "metadata": {},
   "outputs": [
    {
     "name": "stdout",
     "output_type": "stream",
     "text": [
      "Fitting 3 folds for each of 49 candidates, totalling 147 fits\n"
     ]
    },
    {
     "name": "stderr",
     "output_type": "stream",
     "text": [
      "[Parallel(n_jobs=-1)]: Done 147 out of 147 | elapsed:    6.0s finished\n"
     ]
    },
    {
     "data": {
      "text/plain": [
       "GridSearchCV(cv=3, error_score='raise',\n",
       "       estimator=Pipeline(memory=None,\n",
       "     steps=[('clf', SVC(C=1, cache_size=200, class_weight=None, coef0=0.0,\n",
       "  decision_function_shape='ovr', degree=3, gamma=0.1, kernel='rbf',\n",
       "  max_iter=-1, probability=False, random_state=None, shrinking=True,\n",
       "  tol=0.001, verbose=False))]),\n",
       "       fit_params=None, iid=True, n_jobs=-1,\n",
       "       param_grid={'clf__C': (0.1, 0.5, 1, 2, 5, 10, 20), 'clf__gamma': (0.001, 0.01, 0.1, 0.25, 0.5, 0.75, 1)},\n",
       "       pre_dispatch='2*n_jobs', refit=True, return_train_score='warn',\n",
       "       scoring='accuracy', verbose=1)"
      ]
     },
     "execution_count": 104,
     "metadata": {},
     "output_type": "execute_result"
    }
   ],
   "source": [
    "svm_grid_rbf.fit(X_train, y_train) "
   ]
  },
  {
   "cell_type": "code",
   "execution_count": 105,
   "metadata": {},
   "outputs": [
    {
     "data": {
      "text/plain": [
       "0.97777777777777775"
      ]
     },
     "execution_count": 105,
     "metadata": {},
     "output_type": "execute_result"
    }
   ],
   "source": [
    "svm_grid_rbf.best_score_"
   ]
  },
  {
   "cell_type": "code",
   "execution_count": 106,
   "metadata": {
    "collapsed": true
   },
   "outputs": [],
   "source": [
    "best = svm_grid_rbf.best_estimator_.get_params() "
   ]
  },
  {
   "cell_type": "code",
   "execution_count": 107,
   "metadata": {},
   "outputs": [
    {
     "name": "stdout",
     "output_type": "stream",
     "text": [
      "\tclf__C: \t 0.10\n",
      "\tclf__gamma: \t 0.25\n"
     ]
    }
   ],
   "source": [
    "for k in sorted(params.keys()): \n",
    "    print('\\t{0}: \\t {1:.2f}'.format(k, best[k]))"
   ]
  },
  {
   "cell_type": "markdown",
   "metadata": {},
   "source": [
    "Conducting validation in the test dataset. "
   ]
  },
  {
   "cell_type": "code",
   "execution_count": 108,
   "metadata": {
    "collapsed": true
   },
   "outputs": [],
   "source": [
    "y_test_pred = svm_grid_rbf.predict(X_test)"
   ]
  },
  {
   "cell_type": "code",
   "execution_count": 109,
   "metadata": {},
   "outputs": [
    {
     "data": {
      "text/plain": [
       "array([[16,  0,  0],\n",
       "       [ 0, 22,  1],\n",
       "       [ 0,  3, 18]], dtype=int64)"
      ]
     },
     "execution_count": 109,
     "metadata": {},
     "output_type": "execute_result"
    }
   ],
   "source": [
    "confusion_matrix(y_test, y_test_pred)"
   ]
  },
  {
   "cell_type": "code",
   "execution_count": 110,
   "metadata": {},
   "outputs": [
    {
     "name": "stdout",
     "output_type": "stream",
     "text": [
      "Precision Score: \t 0.9356\n",
      "Recall Score: \t\t 0.9333\n",
      "F1 Score: \t\t 0.9331\n"
     ]
    }
   ],
   "source": [
    "print(\"Precision Score: \\t {0:.4f}\".format(precision_score(y_test, \n",
    "                                                           y_test_pred, \n",
    "                                                           average='weighted')))\n",
    "print(\"Recall Score: \\t\\t {0:.4f}\".format(recall_score(y_test,\n",
    "                                                       y_test_pred, \n",
    "                                                       average='weighted')))\n",
    "print(\"F1 Score: \\t\\t {0:.4f}\".format(f1_score(y_test,\n",
    "                                               y_test_pred, \n",
    "                                               average='weighted')))"
   ]
  },
  {
   "cell_type": "code",
   "execution_count": 111,
   "metadata": {
    "collapsed": true
   },
   "outputs": [],
   "source": [
    "Xv = X.values.reshape(-1,1)\n",
    "h = 0.02\n",
    "x_min, x_max = Xv.min(), Xv.max() + 1\n",
    "y_min, y_max = y.min(), y.max() + 1\n",
    "xx, yy = np.meshgrid(np.arange(x_min, x_max, h),\n",
    "                     np.arange(y_min, y_max, h))"
   ]
  },
  {
   "cell_type": "code",
   "execution_count": 112,
   "metadata": {},
   "outputs": [
    {
     "data": {
      "image/png": "[encoded data removed]",
      "text/plain": [
       "<matplotlib.figure.Figure at 0x810acc0>"
      ]
     },
     "metadata": {},
     "output_type": "display_data"
    }
   ],
   "source": [
    "z = svm_grid_rbf.predict(np.c_[xx.ravel(), yy.ravel()])\n",
    "z = z.reshape(xx.shape)\n",
    "fig = plt.figure(figsize=(16,10))\n",
    "ax = plt.contourf(xx, yy, z, cmap = 'afmhot', alpha=0.3);\n",
    "plt.scatter(X.values[:, 0], X.values[:, 1], c=y, s=80, \n",
    "            alpha=0.9, edgecolors='g');"
   ]
  },
  {
   "cell_type": "markdown",
   "metadata": {},
   "source": [
    "***\n",
    "# 5. Support Vector Regression"
   ]
  },
  {
   "cell_type": "code",
   "execution_count": 113,
   "metadata": {
    "collapsed": true
   },
   "outputs": [],
   "source": [
    "import numpy as np\n",
    "import matplotlib.pyplot as plt\n",
    "import seaborn as sns\n",
    "sns.set_style('whitegrid')\n",
    "% matplotlib inline\n",
    "import pandas as pd\n",
    "from sklearn.svm import SVR\n",
    "from sklearn.metrics import mean_squared_error, r2_score"
   ]
  },
  {
   "cell_type": "code",
   "execution_count": 114,
   "metadata": {},
   "outputs": [
    {
     "data": {
      "text/html": [
       "<div>\n",
       "<style>\n",
       "    .dataframe thead tr:only-child th {\n",
       "        text-align: right;\n",
       "    }\n",
       "\n",
       "    .dataframe thead th {\n",
       "        text-align: left;\n",
       "    }\n",
       "\n",
       "    .dataframe tbody tr th {\n",
       "        vertical-align: top;\n",
       "    }\n",
       "</style>\n",
       "<table border=\"1\" class=\"dataframe\">\n",
       "  <thead>\n",
       "    <tr style=\"text-align: right;\">\n",
       "      <th></th>\n",
       "      <th>CRIM</th>\n",
       "      <th>ZN</th>\n",
       "      <th>INDUS</th>\n",
       "      <th>CHAS</th>\n",
       "      <th>NOX</th>\n",
       "      <th>RM</th>\n",
       "      <th>AGE</th>\n",
       "      <th>DIS</th>\n",
       "      <th>RAD</th>\n",
       "      <th>TAX</th>\n",
       "      <th>PTRATIO</th>\n",
       "      <th>B</th>\n",
       "      <th>LSTAT</th>\n",
       "    </tr>\n",
       "  </thead>\n",
       "  <tbody>\n",
       "    <tr>\n",
       "      <th>0</th>\n",
       "      <td>0.00632</td>\n",
       "      <td>18.0</td>\n",
       "      <td>2.31</td>\n",
       "      <td>0.0</td>\n",
       "      <td>0.538</td>\n",
       "      <td>6.575</td>\n",
       "      <td>65.2</td>\n",
       "      <td>4.0900</td>\n",
       "      <td>1.0</td>\n",
       "      <td>296.0</td>\n",
       "      <td>15.3</td>\n",
       "      <td>396.90</td>\n",
       "      <td>4.98</td>\n",
       "    </tr>\n",
       "    <tr>\n",
       "      <th>1</th>\n",
       "      <td>0.02731</td>\n",
       "      <td>0.0</td>\n",
       "      <td>7.07</td>\n",
       "      <td>0.0</td>\n",
       "      <td>0.469</td>\n",
       "      <td>6.421</td>\n",
       "      <td>78.9</td>\n",
       "      <td>4.9671</td>\n",
       "      <td>2.0</td>\n",
       "      <td>242.0</td>\n",
       "      <td>17.8</td>\n",
       "      <td>396.90</td>\n",
       "      <td>9.14</td>\n",
       "    </tr>\n",
       "    <tr>\n",
       "      <th>2</th>\n",
       "      <td>0.02729</td>\n",
       "      <td>0.0</td>\n",
       "      <td>7.07</td>\n",
       "      <td>0.0</td>\n",
       "      <td>0.469</td>\n",
       "      <td>7.185</td>\n",
       "      <td>61.1</td>\n",
       "      <td>4.9671</td>\n",
       "      <td>2.0</td>\n",
       "      <td>242.0</td>\n",
       "      <td>17.8</td>\n",
       "      <td>392.83</td>\n",
       "      <td>4.03</td>\n",
       "    </tr>\n",
       "    <tr>\n",
       "      <th>3</th>\n",
       "      <td>0.03237</td>\n",
       "      <td>0.0</td>\n",
       "      <td>2.18</td>\n",
       "      <td>0.0</td>\n",
       "      <td>0.458</td>\n",
       "      <td>6.998</td>\n",
       "      <td>45.8</td>\n",
       "      <td>6.0622</td>\n",
       "      <td>3.0</td>\n",
       "      <td>222.0</td>\n",
       "      <td>18.7</td>\n",
       "      <td>394.63</td>\n",
       "      <td>2.94</td>\n",
       "    </tr>\n",
       "    <tr>\n",
       "      <th>4</th>\n",
       "      <td>0.06905</td>\n",
       "      <td>0.0</td>\n",
       "      <td>2.18</td>\n",
       "      <td>0.0</td>\n",
       "      <td>0.458</td>\n",
       "      <td>7.147</td>\n",
       "      <td>54.2</td>\n",
       "      <td>6.0622</td>\n",
       "      <td>3.0</td>\n",
       "      <td>222.0</td>\n",
       "      <td>18.7</td>\n",
       "      <td>396.90</td>\n",
       "      <td>5.33</td>\n",
       "    </tr>\n",
       "  </tbody>\n",
       "</table>\n",
       "</div>"
      ],
      "text/plain": [
       "      CRIM    ZN  INDUS  CHAS    NOX     RM   AGE     DIS  RAD    TAX  \\\n",
       "0  0.00632  18.0   2.31   0.0  0.538  6.575  65.2  4.0900  1.0  296.0   \n",
       "1  0.02731   0.0   7.07   0.0  0.469  6.421  78.9  4.9671  2.0  242.0   \n",
       "2  0.02729   0.0   7.07   0.0  0.469  7.185  61.1  4.9671  2.0  242.0   \n",
       "3  0.03237   0.0   2.18   0.0  0.458  6.998  45.8  6.0622  3.0  222.0   \n",
       "4  0.06905   0.0   2.18   0.0  0.458  7.147  54.2  6.0622  3.0  222.0   \n",
       "\n",
       "   PTRATIO       B  LSTAT  \n",
       "0     15.3  396.90   4.98  \n",
       "1     17.8  396.90   9.14  \n",
       "2     17.8  392.83   4.03  \n",
       "3     18.7  394.63   2.94  \n",
       "4     18.7  396.90   5.33  "
      ]
     },
     "execution_count": 114,
     "metadata": {},
     "output_type": "execute_result"
    }
   ],
   "source": [
    "from sklearn.datasets import load_boston\n",
    "boston_data = load_boston()\n",
    "df = pd.DataFrame(boston_data.data, columns=boston_data.feature_names)\n",
    "df.head()"
   ]
  },
  {
   "cell_type": "code",
   "execution_count": 115,
   "metadata": {
    "collapsed": true
   },
   "outputs": [],
   "source": [
    "y = boston_data.target\n",
    "X = df[['LSTAT']].values"
   ]
  },
  {
   "cell_type": "markdown",
   "metadata": {},
   "source": [
    "### Feature Scaling"
   ]
  },
  {
   "cell_type": "code",
   "execution_count": 116,
   "metadata": {
    "collapsed": true
   },
   "outputs": [],
   "source": [
    "# Add in feature scaling -- seemed to remove the variance in this model\n",
    "sc_x = StandardScaler()\n",
    "X_std = sc_x.fit_transform(X)"
   ]
  },
  {
   "cell_type": "code",
   "execution_count": 117,
   "metadata": {},
   "outputs": [
    {
     "data": {
      "text/plain": [
       "SVR(C=1.0, cache_size=200, coef0=0.0, degree=3, epsilon=0.1, gamma='auto',\n",
       "  kernel='rbf', max_iter=-1, shrinking=True, tol=0.001, verbose=False)"
      ]
     },
     "execution_count": 117,
     "metadata": {},
     "output_type": "execute_result"
    }
   ],
   "source": [
    "svr = SVR()\n",
    "#svr.fit(X, y)\n",
    "svr.fit(X_std, y)"
   ]
  },
  {
   "cell_type": "code",
   "execution_count": 118,
   "metadata": {
    "collapsed": true
   },
   "outputs": [],
   "source": [
    "#sort_idx = X.flatten().argsort()\n",
    "sort_idx = X_std.flatten().argsort()"
   ]
  },
  {
   "cell_type": "code",
   "execution_count": 119,
   "metadata": {},
   "outputs": [
    {
     "data": {
      "image/png": "[encoded data removed]",
      "text/plain": [
       "<matplotlib.figure.Figure at 0xcdabd30>"
      ]
     },
     "metadata": {},
     "output_type": "display_data"
    }
   ],
   "source": [
    "#sort_idx = X_std.flatten().argsort()\n",
    "plt.figure(figsize=(10,8))\n",
    "#plt.scatter(X[sort_idx], y[sort_idx])\n",
    "#plt.plot(X[sort_idx], svr.predict(X[sort_idx]), color='k')\n",
    "\n",
    "plt.scatter(X_std[sort_idx], y[sort_idx])\n",
    "plt.plot(X_std[sort_idx], svr.predict(X_std[sort_idx]), color='k')\n",
    "\n",
    "plt.xlabel('LSTAT')\n",
    "plt.ylabel('MEDV');"
   ]
  },
  {
   "cell_type": "code",
   "execution_count": 120,
   "metadata": {
    "collapsed": true
   },
   "outputs": [],
   "source": [
    "X_train, X_test, y_train, y_test = train_test_split(X, y, \n",
    "                                                    test_size=0.3, \n",
    "                                                    random_state=42)"
   ]
  },
  {
   "cell_type": "markdown",
   "metadata": {},
   "source": [
    "Linear Kernel"
   ]
  },
  {
   "cell_type": "markdown",
   "metadata": {},
   "source": [
    "### Feature Scaling"
   ]
  },
  {
   "cell_type": "code",
   "execution_count": 121,
   "metadata": {
    "collapsed": true
   },
   "outputs": [],
   "source": [
    "sc_x = StandardScaler()\n",
    "X_std_train = sc_x.fit_transform(X_train)"
   ]
  },
  {
   "cell_type": "code",
   "execution_count": 122,
   "metadata": {},
   "outputs": [
    {
     "data": {
      "text/plain": [
       "SVR(C=1.0, cache_size=200, coef0=0.0, degree=3, epsilon=0.1, gamma='auto',\n",
       "  kernel='linear', max_iter=-1, shrinking=True, tol=0.001, verbose=False)"
      ]
     },
     "execution_count": 122,
     "metadata": {},
     "output_type": "execute_result"
    }
   ],
   "source": [
    "svr = SVR(kernel='linear')\n",
    "#svr.fit(X_train, y_train)\n",
    "svr.fit(X_std_train, y_train)"
   ]
  },
  {
   "cell_type": "code",
   "execution_count": 123,
   "metadata": {
    "collapsed": true
   },
   "outputs": [],
   "source": [
    "y_train_pred = svr.predict(X_std_train)"
   ]
  },
  {
   "cell_type": "code",
   "execution_count": 124,
   "metadata": {
    "collapsed": true
   },
   "outputs": [],
   "source": [
    "y_test_pred = svr.predict(X_test)"
   ]
  },
  {
   "cell_type": "code",
   "execution_count": 125,
   "metadata": {},
   "outputs": [
    {
     "name": "stdout",
     "output_type": "stream",
     "text": [
      "MSE train: 42.1947, test: 7618.3177\n"
     ]
    }
   ],
   "source": [
    "print(\"MSE train: {0:.4f}, test: {1:.4f}\".\\\n",
    "      format(mean_squared_error(y_train, y_train_pred), \n",
    "             mean_squared_error(y_test, y_test_pred)))"
   ]
  },
  {
   "cell_type": "code",
   "execution_count": 126,
   "metadata": {},
   "outputs": [
    {
     "name": "stdout",
     "output_type": "stream",
     "text": [
      "R^2 train: 0.5200, test: -101.2413\n"
     ]
    }
   ],
   "source": [
    "print(\"R^2 train: {0:.4f}, test: {1:.4f}\".\\\n",
    "      format(r2_score(y_train, y_train_pred),\n",
    "             r2_score(y_test, y_test_pred)))"
   ]
  },
  {
   "cell_type": "markdown",
   "metadata": {},
   "source": [
    "Polynomial"
   ]
  },
  {
   "cell_type": "code",
   "execution_count": 127,
   "metadata": {},
   "outputs": [
    {
     "data": {
      "text/plain": [
       "SVR(C=1000.0, cache_size=200, coef0=0.0, degree=2, epsilon=0.1, gamma='auto',\n",
       "  kernel='poly', max_iter=-1, shrinking=True, tol=0.001, verbose=False)"
      ]
     },
     "execution_count": 127,
     "metadata": {},
     "output_type": "execute_result"
    }
   ],
   "source": [
    "svr = SVR(kernel='poly', C=1e3, degree=2)\n",
    "#svr.fit(X_train, y_train)\n",
    "svr.fit(X_std_train, y_train)"
   ]
  },
  {
   "cell_type": "code",
   "execution_count": 128,
   "metadata": {
    "collapsed": true
   },
   "outputs": [],
   "source": [
    "y_train_pred = svr.predict(X_std_train)\n",
    "y_test_pred = svr.predict(X_test)"
   ]
  },
  {
   "cell_type": "code",
   "execution_count": 129,
   "metadata": {},
   "outputs": [
    {
     "name": "stdout",
     "output_type": "stream",
     "text": [
      "MSE train: 88.6705, test: 147013.4753\n",
      "R^2 train: -0.0088, test: -1971.9884\n"
     ]
    }
   ],
   "source": [
    "print(\"MSE train: {0:.4f}, test: {1:.4f}\".\\\n",
    "      format(mean_squared_error(y_train, y_train_pred), \n",
    "             mean_squared_error(y_test, y_test_pred)))\n",
    "print(\"R^2 train: {0:.4f}, test: {1:.4f}\".\\\n",
    "      format(r2_score(y_train, y_train_pred),\n",
    "             r2_score(y_test, y_test_pred)))"
   ]
  },
  {
   "cell_type": "markdown",
   "metadata": {},
   "source": [
    "rbf Kernel"
   ]
  },
  {
   "cell_type": "code",
   "execution_count": 130,
   "metadata": {},
   "outputs": [
    {
     "data": {
      "text/plain": [
       "SVR(C=1000.0, cache_size=200, coef0=0.0, degree=3, epsilon=0.1, gamma=0.1,\n",
       "  kernel='rbf', max_iter=-1, shrinking=True, tol=0.001, verbose=False)"
      ]
     },
     "execution_count": 130,
     "metadata": {},
     "output_type": "execute_result"
    }
   ],
   "source": [
    "svr = SVR(kernel='rbf', C=1e3, gamma=0.1)\n",
    "#svr.fit(X_train, y_train)\n",
    "svr.fit(X_std_train, y_train)"
   ]
  },
  {
   "cell_type": "code",
   "execution_count": 131,
   "metadata": {
    "collapsed": true
   },
   "outputs": [],
   "source": [
    "y_train_pred = svr.predict(X_std_train)\n",
    "y_test_pred = svr.predict(X_test)"
   ]
  },
  {
   "cell_type": "code",
   "execution_count": 132,
   "metadata": {},
   "outputs": [
    {
     "name": "stdout",
     "output_type": "stream",
     "text": [
      "MSE train: 28.1064, test: 1327.0269\n",
      "R^2 train: 0.6802, test: -16.8093\n"
     ]
    }
   ],
   "source": [
    "print(\"MSE train: {0:.4f}, test: {1:.4f}\".\\\n",
    "      format(mean_squared_error(y_train, y_train_pred), \n",
    "             mean_squared_error(y_test, y_test_pred)))\n",
    "print(\"R^2 train: {0:.4f}, test: {1:.4f}\".\\\n",
    "      format(r2_score(y_train, y_train_pred),\n",
    "             r2_score(y_test, y_test_pred)))"
   ]
  },
  {
   "cell_type": "markdown",
   "metadata": {},
   "source": [
    "***\n",
    "# 6. Advantages and Disadvantages\n",
    "\n",
    "\n",
    "\n",
    "The **advantages** of support vector machines are:\n",
    "* Effective in high dimensional spaces.\n",
    "* Uses only a subset of training points (support vectors) in the decision function.\n",
    "* Many different Kernel functions can be specified for the decision function.\n",
    "    * Linear\n",
    "    * Polynomial\n",
    "    * RBF\n",
    "    * Sigmoid\n",
    "    * Custom\n",
    "\n",
    "\n",
    "The **disadvantages** of support vector machines include:\n",
    "* Beware of overfitting when num_features > num_samples.\n",
    "* Choice of Kernal and Regularization can have a large impact on performance\n",
    "* No probability estimates\n"
   ]
  },
  {
   "cell_type": "markdown",
   "metadata": {},
   "source": [
    "***\n",
    "\n",
    "# Summary\n",
    "\n",
    "\n",
    "| Class |  Out-of-core support | Kernel Trick |\n",
    "| :- |  :- | :- | :- |\n",
    "| `SGDClassifier` |  Yes | No |\n",
    "| `LinearSVC` |  No | No |\n",
    "| `SVC` |  No | Yes |\n",
    "\n",
    "**Note:** All require features scaling\n",
    "\n",
    "Support Vector Machine algorithms are not scale invariant, so it is highly recommended to scale your data. For example, scale each attribute on the input vector X to [0,1] or [-1,+1], or standardize it to have mean 0 and variance 1. Note that the same scaling must be applied to the test vector to obtain meaningful results. See section Preprocessing data for more details on scaling and normalization. ~ [scikit-learn documentation](http://scikit-learn.org/stable/modules/svm.html#svm)"
   ]
  },
  {
   "cell_type": "markdown",
   "metadata": {},
   "source": [
    "# Where to From Here\n",
    "\n",
    "* [LIBSVM](http://www.csie.ntu.edu.tw/~cjlin/libsvm/)\n",
    "* [LIBLINEAR](http://www.csie.ntu.edu.tw/~cjlin/liblinear/)\n",
    "* [Hands-On Machine Learning with Scikit-Learn and TensorFlow](https://www.safaribooksonline.com/library/view/hands-on-machine-learning/9781491962282/ch05.html#svm_chapter)\n",
    "* [Python Data Science Handbook](https://www.safaribooksonline.com/library/view/python-data-science/9781491912126/ch05.html#in-depth-support-vector-machines)\n",
    "* [Python Machine Learning, 2E](https://www.safaribooksonline.com/library/view/python-machine-learning/9781787125933/ch03s04.html)\n",
    "* [Statistics for Machine Learning](https://www.safaribooksonline.com/library/view/statistics-for-machine/9781788295758/f2c95085-6676-41c6-876e-ab6802666ea2.xhtml)\n",
    "* [ConvNetJS](http://cs.stanford.edu/people/karpathy/convnetjs/)\n"
   ]
  },
  {
   "cell_type": "markdown",
   "metadata": {
    "collapsed": true
   },
   "source": [
    "***"
   ]
  }
 ],
 "metadata": {
  "kernelspec": {
   "display_name": "Python 3",
   "language": "python",
   "name": "python3"
  },
  "language_info": {
   "codemirror_mode": {
    "name": "ipython",
    "version": 3
   },
   "file_extension": ".py",
   "mimetype": "text/x-python",
   "name": "python",
   "nbconvert_exporter": "python",
   "pygments_lexer": "ipython3",
   "version": "3.6.3"
  }
 },
 "nbformat": 4,
 "nbformat_minor": 2
}
