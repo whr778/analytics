{
 "cells": [
  {
   "cell_type": "markdown",
   "metadata": {},
   "source": [
    "# Dimensionality Reduction by Extracting Principal Components\n",
    "\n",
    "[Wine](https://archive.ics.uci.edu/ml/machine-learning-databases/wine/)"
   ]
  },
  {
   "cell_type": "code",
   "execution_count": 1,
   "metadata": {
    "collapsed": true
   },
   "outputs": [],
   "source": [
    "import numpy as np\n",
    "import matplotlib.pyplot as plt\n",
    "%matplotlib inline\n",
    "import pandas as pd\n",
    "import seaborn as sns\n",
    "sns.set()"
   ]
  },
  {
   "cell_type": "code",
   "execution_count": 2,
   "metadata": {},
   "outputs": [
    {
     "data": {
      "text/plain": [
       "(178, 14)"
      ]
     },
     "execution_count": 2,
     "metadata": {},
     "output_type": "execute_result"
    }
   ],
   "source": [
    "df = pd.read_csv('wine.csv')\n",
    "df.shape"
   ]
  },
  {
   "cell_type": "code",
   "execution_count": 3,
   "metadata": {},
   "outputs": [
    {
     "data": {
      "text/html": [
       "<div>\n",
       "<style>\n",
       "    .dataframe thead tr:only-child th {\n",
       "        text-align: right;\n",
       "    }\n",
       "\n",
       "    .dataframe thead th {\n",
       "        text-align: left;\n",
       "    }\n",
       "\n",
       "    .dataframe tbody tr th {\n",
       "        vertical-align: top;\n",
       "    }\n",
       "</style>\n",
       "<table border=\"1\" class=\"dataframe\">\n",
       "  <thead>\n",
       "    <tr style=\"text-align: right;\">\n",
       "      <th></th>\n",
       "      <th>class</th>\n",
       "      <th>Alcohol</th>\n",
       "      <th>Malic acid</th>\n",
       "      <th>Ash</th>\n",
       "      <th>Alcalinity of ash</th>\n",
       "      <th>Magnesium</th>\n",
       "      <th>Total phenols</th>\n",
       "      <th>Flavanoids</th>\n",
       "      <th>Nonflavanoid phenols</th>\n",
       "      <th>Proanthocyanins</th>\n",
       "      <th>Color intensity</th>\n",
       "      <th>Hue</th>\n",
       "      <th>OD280/OD315 of diluted wines</th>\n",
       "      <th>Proline</th>\n",
       "    </tr>\n",
       "  </thead>\n",
       "  <tbody>\n",
       "    <tr>\n",
       "      <th>0</th>\n",
       "      <td>1</td>\n",
       "      <td>14.23</td>\n",
       "      <td>1.71</td>\n",
       "      <td>2.43</td>\n",
       "      <td>15.6</td>\n",
       "      <td>127</td>\n",
       "      <td>2.80</td>\n",
       "      <td>3.06</td>\n",
       "      <td>0.28</td>\n",
       "      <td>2.29</td>\n",
       "      <td>5.64</td>\n",
       "      <td>1.04</td>\n",
       "      <td>3.92</td>\n",
       "      <td>1065</td>\n",
       "    </tr>\n",
       "    <tr>\n",
       "      <th>1</th>\n",
       "      <td>1</td>\n",
       "      <td>13.20</td>\n",
       "      <td>1.78</td>\n",
       "      <td>2.14</td>\n",
       "      <td>11.2</td>\n",
       "      <td>100</td>\n",
       "      <td>2.65</td>\n",
       "      <td>2.76</td>\n",
       "      <td>0.26</td>\n",
       "      <td>1.28</td>\n",
       "      <td>4.38</td>\n",
       "      <td>1.05</td>\n",
       "      <td>3.40</td>\n",
       "      <td>1050</td>\n",
       "    </tr>\n",
       "    <tr>\n",
       "      <th>2</th>\n",
       "      <td>1</td>\n",
       "      <td>13.16</td>\n",
       "      <td>2.36</td>\n",
       "      <td>2.67</td>\n",
       "      <td>18.6</td>\n",
       "      <td>101</td>\n",
       "      <td>2.80</td>\n",
       "      <td>3.24</td>\n",
       "      <td>0.30</td>\n",
       "      <td>2.81</td>\n",
       "      <td>5.68</td>\n",
       "      <td>1.03</td>\n",
       "      <td>3.17</td>\n",
       "      <td>1185</td>\n",
       "    </tr>\n",
       "    <tr>\n",
       "      <th>3</th>\n",
       "      <td>1</td>\n",
       "      <td>14.37</td>\n",
       "      <td>1.95</td>\n",
       "      <td>2.50</td>\n",
       "      <td>16.8</td>\n",
       "      <td>113</td>\n",
       "      <td>3.85</td>\n",
       "      <td>3.49</td>\n",
       "      <td>0.24</td>\n",
       "      <td>2.18</td>\n",
       "      <td>7.80</td>\n",
       "      <td>0.86</td>\n",
       "      <td>3.45</td>\n",
       "      <td>1480</td>\n",
       "    </tr>\n",
       "    <tr>\n",
       "      <th>4</th>\n",
       "      <td>1</td>\n",
       "      <td>13.24</td>\n",
       "      <td>2.59</td>\n",
       "      <td>2.87</td>\n",
       "      <td>21.0</td>\n",
       "      <td>118</td>\n",
       "      <td>2.80</td>\n",
       "      <td>2.69</td>\n",
       "      <td>0.39</td>\n",
       "      <td>1.82</td>\n",
       "      <td>4.32</td>\n",
       "      <td>1.04</td>\n",
       "      <td>2.93</td>\n",
       "      <td>735</td>\n",
       "    </tr>\n",
       "  </tbody>\n",
       "</table>\n",
       "</div>"
      ],
      "text/plain": [
       "   class   Alcohol   Malic acid   Ash   Alcalinity of ash     Magnesium  \\\n",
       "0      1     14.23         1.71  2.43                  15.6         127   \n",
       "1      1     13.20         1.78  2.14                  11.2         100   \n",
       "2      1     13.16         2.36  2.67                  18.6         101   \n",
       "3      1     14.37         1.95  2.50                  16.8         113   \n",
       "4      1     13.24         2.59  2.87                  21.0         118   \n",
       "\n",
       "    Total phenols   Flavanoids   Nonflavanoid phenols   Proanthocyanins  \\\n",
       "0            2.80         3.06                   0.28              2.29   \n",
       "1            2.65         2.76                   0.26              1.28   \n",
       "2            2.80         3.24                   0.30              2.81   \n",
       "3            3.85         3.49                   0.24              2.18   \n",
       "4            2.80         2.69                   0.39              1.82   \n",
       "\n",
       "   Color intensity   Hue  OD280/OD315 of diluted wines  Proline          \n",
       "0             5.64  1.04                          3.92             1065  \n",
       "1             4.38  1.05                          3.40             1050  \n",
       "2             5.68  1.03                          3.17             1185  \n",
       "3             7.80  0.86                          3.45             1480  \n",
       "4             4.32  1.04                          2.93              735  "
      ]
     },
     "execution_count": 3,
     "metadata": {},
     "output_type": "execute_result"
    }
   ],
   "source": [
    "df.head()"
   ]
  },
  {
   "cell_type": "code",
   "execution_count": 4,
   "metadata": {
    "collapsed": true
   },
   "outputs": [],
   "source": [
    "X = df.iloc[:, 1:]"
   ]
  },
  {
   "cell_type": "code",
   "execution_count": 5,
   "metadata": {
    "collapsed": true
   },
   "outputs": [],
   "source": [
    "y = df['class']"
   ]
  },
  {
   "cell_type": "code",
   "execution_count": 6,
   "metadata": {
    "collapsed": true
   },
   "outputs": [],
   "source": [
    "from sklearn.model_selection import train_test_split\n",
    "X_train, X_test, y_train, y_test = train_test_split(X, y, test_size=0.2,\n",
    "                                                    random_state=42)"
   ]
  },
  {
   "cell_type": "code",
   "execution_count": 7,
   "metadata": {
    "collapsed": true
   },
   "outputs": [],
   "source": [
    "from sklearn.preprocessing import StandardScaler\n",
    "sc = StandardScaler()"
   ]
  },
  {
   "cell_type": "code",
   "execution_count": 8,
   "metadata": {
    "collapsed": true
   },
   "outputs": [],
   "source": [
    "sc.fit(X_train)\n",
    "X_train_sc = sc.transform(X_train)\n",
    "X_test_sc = sc.transform(X_test)\n",
    "# X_train_sc = sc.fit_transform(X_train)\n",
    "# X_test_sc = sc.fit_transform(X_test) <--- Wrong approach"
   ]
  },
  {
   "cell_type": "code",
   "execution_count": 9,
   "metadata": {
    "collapsed": true
   },
   "outputs": [],
   "source": [
    "from sklearn.decomposition import PCA"
   ]
  },
  {
   "cell_type": "code",
   "execution_count": 10,
   "metadata": {},
   "outputs": [
    {
     "data": {
      "text/plain": [
       "PCA(copy=True, iterated_power='auto', n_components=2, random_state=None,\n",
       "  svd_solver='auto', tol=0.0, whiten=False)"
      ]
     },
     "execution_count": 10,
     "metadata": {},
     "output_type": "execute_result"
    }
   ],
   "source": [
    "pca = PCA(n_components=2)\n",
    "pca.fit(X_train_sc)"
   ]
  },
  {
   "cell_type": "code",
   "execution_count": 11,
   "metadata": {},
   "outputs": [
    {
     "data": {
      "text/plain": [
       "array([ 0.35900066,  0.18691934])"
      ]
     },
     "execution_count": 11,
     "metadata": {},
     "output_type": "execute_result"
    }
   ],
   "source": [
    "pca.explained_variance_ratio_"
   ]
  },
  {
   "cell_type": "code",
   "execution_count": 12,
   "metadata": {},
   "outputs": [
    {
     "name": "stdout",
     "output_type": "stream",
     "text": [
      "[ 0.359  0.187]\n"
     ]
    }
   ],
   "source": [
    "print(np.round(pca.explained_variance_ratio_, 3))"
   ]
  },
  {
   "cell_type": "code",
   "execution_count": 13,
   "metadata": {},
   "outputs": [
    {
     "data": {
      "text/html": [
       "<div>\n",
       "<style>\n",
       "    .dataframe thead tr:only-child th {\n",
       "        text-align: right;\n",
       "    }\n",
       "\n",
       "    .dataframe thead th {\n",
       "        text-align: left;\n",
       "    }\n",
       "\n",
       "    .dataframe tbody tr th {\n",
       "        vertical-align: top;\n",
       "    }\n",
       "</style>\n",
       "<table border=\"1\" class=\"dataframe\">\n",
       "  <thead>\n",
       "    <tr style=\"text-align: right;\">\n",
       "      <th></th>\n",
       "      <th>0</th>\n",
       "      <th>1</th>\n",
       "    </tr>\n",
       "  </thead>\n",
       "  <tbody>\n",
       "    <tr>\n",
       "      <th>Alcohol</th>\n",
       "      <td>0.128</td>\n",
       "      <td>-0.493</td>\n",
       "    </tr>\n",
       "    <tr>\n",
       "      <th>Malic acid</th>\n",
       "      <td>-0.256</td>\n",
       "      <td>-0.190</td>\n",
       "    </tr>\n",
       "    <tr>\n",
       "      <th>Ash</th>\n",
       "      <td>-0.022</td>\n",
       "      <td>-0.317</td>\n",
       "    </tr>\n",
       "    <tr>\n",
       "      <th>Alcalinity of ash</th>\n",
       "      <td>-0.244</td>\n",
       "      <td>0.035</td>\n",
       "    </tr>\n",
       "    <tr>\n",
       "      <th>Magnesium</th>\n",
       "      <td>0.148</td>\n",
       "      <td>-0.262</td>\n",
       "    </tr>\n",
       "    <tr>\n",
       "      <th>Total phenols</th>\n",
       "      <td>0.385</td>\n",
       "      <td>-0.096</td>\n",
       "    </tr>\n",
       "    <tr>\n",
       "      <th>Flavanoids</th>\n",
       "      <td>0.420</td>\n",
       "      <td>-0.015</td>\n",
       "    </tr>\n",
       "    <tr>\n",
       "      <th>Nonflavanoid phenols</th>\n",
       "      <td>-0.299</td>\n",
       "      <td>-0.076</td>\n",
       "    </tr>\n",
       "    <tr>\n",
       "      <th>Proanthocyanins</th>\n",
       "      <td>0.308</td>\n",
       "      <td>-0.074</td>\n",
       "    </tr>\n",
       "    <tr>\n",
       "      <th>Color intensity</th>\n",
       "      <td>-0.119</td>\n",
       "      <td>-0.534</td>\n",
       "    </tr>\n",
       "    <tr>\n",
       "      <th>Hue</th>\n",
       "      <td>0.299</td>\n",
       "      <td>0.281</td>\n",
       "    </tr>\n",
       "    <tr>\n",
       "      <th>OD280/OD315 of diluted wines</th>\n",
       "      <td>0.384</td>\n",
       "      <td>0.143</td>\n",
       "    </tr>\n",
       "    <tr>\n",
       "      <th>Proline</th>\n",
       "      <td>0.276</td>\n",
       "      <td>-0.381</td>\n",
       "    </tr>\n",
       "  </tbody>\n",
       "</table>\n",
       "</div>"
      ],
      "text/plain": [
       "                                  0      1\n",
       " Alcohol                      0.128 -0.493\n",
       " Malic acid                  -0.256 -0.190\n",
       " Ash                         -0.022 -0.317\n",
       " Alcalinity of ash           -0.244  0.035\n",
       " Magnesium                    0.148 -0.262\n",
       " Total phenols                0.385 -0.096\n",
       " Flavanoids                   0.420 -0.015\n",
       " Nonflavanoid phenols        -0.299 -0.076\n",
       " Proanthocyanins              0.308 -0.074\n",
       "Color intensity              -0.119 -0.534\n",
       "Hue                           0.299  0.281\n",
       "OD280/OD315 of diluted wines  0.384  0.143\n",
       "Proline                       0.276 -0.381"
      ]
     },
     "execution_count": 13,
     "metadata": {},
     "output_type": "execute_result"
    }
   ],
   "source": [
    "pd.DataFrame(np.round(pca.components_, 3), columns=X.columns).T"
   ]
  },
  {
   "cell_type": "markdown",
   "metadata": {},
   "source": [
    "No preceived idea of the number of PCAs we want"
   ]
  },
  {
   "cell_type": "code",
   "execution_count": 14,
   "metadata": {},
   "outputs": [
    {
     "data": {
      "text/plain": [
       "PCA(copy=True, iterated_power='auto', n_components=None, random_state=None,\n",
       "  svd_solver='auto', tol=0.0, whiten=False)"
      ]
     },
     "execution_count": 14,
     "metadata": {},
     "output_type": "execute_result"
    }
   ],
   "source": [
    "pca = PCA(n_components=None)\n",
    "pca.fit(X_train_sc)"
   ]
  },
  {
   "cell_type": "code",
   "execution_count": 15,
   "metadata": {},
   "outputs": [
    {
     "data": {
      "text/plain": [
       "array([[-1.16602698, -3.61532732,  1.15128454, ..., -0.1121504 ,\n",
       "         0.07147567, -0.75559169],\n",
       "       [-3.86261156, -0.48217746,  1.72758428, ...,  0.50457041,\n",
       "        -0.18288356, -0.122403  ],\n",
       "       [ 2.28353786,  1.27503318, -0.13167658, ...,  0.48017987,\n",
       "        -0.45893296,  0.41585049],\n",
       "       ..., \n",
       "       [ 4.22339048, -2.40345929, -1.13704654, ..., -0.12930554,\n",
       "        -0.20588086, -0.04785505],\n",
       "       [-1.80527275,  1.49091985, -0.08991142, ..., -0.50730299,\n",
       "        -0.48437788,  0.46676777],\n",
       "       [-0.07808699,  1.19327925,  1.04439979, ..., -0.24025144,\n",
       "         0.05180158, -0.28153725]])"
      ]
     },
     "execution_count": 15,
     "metadata": {},
     "output_type": "execute_result"
    }
   ],
   "source": [
    "pca.transform(X_train_sc)"
   ]
  },
  {
   "cell_type": "code",
   "execution_count": 16,
   "metadata": {},
   "outputs": [
    {
     "name": "stdout",
     "output_type": "stream",
     "text": [
      "[ 0.359  0.187  0.116  0.074  0.067  0.049  0.042  0.027  0.023  0.019\n",
      "  0.017  0.013  0.008]\n"
     ]
    }
   ],
   "source": [
    "print(np.round(pca.explained_variance_ratio_, 3))"
   ]
  },
  {
   "cell_type": "code",
   "execution_count": 17,
   "metadata": {},
   "outputs": [
    {
     "data": {
      "text/plain": [
       "array([ 0.35900066,  0.54592   ,  0.66198557,  0.73570273,  0.80224132,\n",
       "        0.85078714,  0.89273756,  0.91957678,  0.94305138,  0.96194872,\n",
       "        0.97910815,  0.99173743,  1.        ])"
      ]
     },
     "execution_count": 17,
     "metadata": {},
     "output_type": "execute_result"
    }
   ],
   "source": [
    "np.cumsum(pca.explained_variance_ratio_)"
   ]
  },
  {
   "cell_type": "code",
   "execution_count": 18,
   "metadata": {},
   "outputs": [
    {
     "data": {
      "image/png": "[encoded data removed]",
      "text/plain": [
       "<matplotlib.figure.Figure at 0xc2b2908>"
      ]
     },
     "metadata": {},
     "output_type": "display_data"
    }
   ],
   "source": [
    "plt.plot(np.cumsum(pca.explained_variance_ratio_)*100.)\n",
    "plt.xlabel('number of components')\n",
    "plt.ylabel('cummulative explained variance');"
   ]
  },
  {
   "cell_type": "markdown",
   "metadata": {},
   "source": [
    "***"
   ]
  },
  {
   "cell_type": "code",
   "execution_count": 19,
   "metadata": {
    "collapsed": true
   },
   "outputs": [],
   "source": [
    "res = pca.transform(X_train_sc)\n",
    "index_name = ['PCA_'+str(k) for k in range(0, len(res))]"
   ]
  },
  {
   "cell_type": "code",
   "execution_count": 21,
   "metadata": {},
   "outputs": [
    {
     "data": {
      "text/plain": [
       "(142, 13)"
      ]
     },
     "execution_count": 21,
     "metadata": {},
     "output_type": "execute_result"
    }
   ],
   "source": [
    "res.shape"
   ]
  },
  {
   "cell_type": "code",
   "execution_count": 29,
   "metadata": {},
   "outputs": [
    {
     "data": {
      "text/html": [
       "<div>\n",
       "<style>\n",
       "    .dataframe thead tr:only-child th {\n",
       "        text-align: right;\n",
       "    }\n",
       "\n",
       "    .dataframe thead th {\n",
       "        text-align: left;\n",
       "    }\n",
       "\n",
       "    .dataframe tbody tr th {\n",
       "        vertical-align: top;\n",
       "    }\n",
       "</style>\n",
       "<table border=\"1\" class=\"dataframe\">\n",
       "  <thead>\n",
       "    <tr style=\"text-align: right;\">\n",
       "      <th></th>\n",
       "      <th>Alcohol</th>\n",
       "      <th>Malic acid</th>\n",
       "      <th>Ash</th>\n",
       "      <th>Alcalinity of ash</th>\n",
       "      <th>Magnesium</th>\n",
       "      <th>Total phenols</th>\n",
       "      <th>Flavanoids</th>\n",
       "      <th>Nonflavanoid phenols</th>\n",
       "      <th>Proanthocyanins</th>\n",
       "      <th>Color intensity</th>\n",
       "      <th>Hue</th>\n",
       "      <th>OD280/OD315 of diluted wines</th>\n",
       "      <th>Proline</th>\n",
       "    </tr>\n",
       "  </thead>\n",
       "  <tbody>\n",
       "    <tr>\n",
       "      <th>PCA_0</th>\n",
       "      <td>-1.166027</td>\n",
       "      <td>-3.615327</td>\n",
       "      <td>1.151285</td>\n",
       "      <td>1.167179</td>\n",
       "      <td>0.221634</td>\n",
       "      <td>3.062380</td>\n",
       "      <td>-0.553745</td>\n",
       "      <td>0.918085</td>\n",
       "      <td>-0.639966</td>\n",
       "      <td>0.262397</td>\n",
       "      <td>-0.112150</td>\n",
       "      <td>0.071476</td>\n",
       "      <td>-0.755592</td>\n",
       "    </tr>\n",
       "    <tr>\n",
       "      <th>PCA_1</th>\n",
       "      <td>-3.862612</td>\n",
       "      <td>-0.482177</td>\n",
       "      <td>1.727584</td>\n",
       "      <td>0.467086</td>\n",
       "      <td>-0.226540</td>\n",
       "      <td>-1.016510</td>\n",
       "      <td>1.257686</td>\n",
       "      <td>-0.113136</td>\n",
       "      <td>-0.005981</td>\n",
       "      <td>-0.453600</td>\n",
       "      <td>0.504570</td>\n",
       "      <td>-0.182884</td>\n",
       "      <td>-0.122403</td>\n",
       "    </tr>\n",
       "    <tr>\n",
       "      <th>PCA_2</th>\n",
       "      <td>2.283538</td>\n",
       "      <td>1.275033</td>\n",
       "      <td>-0.131677</td>\n",
       "      <td>1.107830</td>\n",
       "      <td>0.215798</td>\n",
       "      <td>1.004315</td>\n",
       "      <td>-0.979052</td>\n",
       "      <td>-0.678263</td>\n",
       "      <td>-0.481336</td>\n",
       "      <td>-0.777822</td>\n",
       "      <td>0.480180</td>\n",
       "      <td>-0.458933</td>\n",
       "      <td>0.415850</td>\n",
       "    </tr>\n",
       "    <tr>\n",
       "      <th>PCA_3</th>\n",
       "      <td>-1.678507</td>\n",
       "      <td>-2.496962</td>\n",
       "      <td>0.556619</td>\n",
       "      <td>1.131270</td>\n",
       "      <td>-0.003420</td>\n",
       "      <td>2.754779</td>\n",
       "      <td>-0.666927</td>\n",
       "      <td>0.150849</td>\n",
       "      <td>-0.121445</td>\n",
       "      <td>-0.123055</td>\n",
       "      <td>-0.319599</td>\n",
       "      <td>0.045823</td>\n",
       "      <td>-0.791136</td>\n",
       "    </tr>\n",
       "    <tr>\n",
       "      <th>PCA_4</th>\n",
       "      <td>1.572842</td>\n",
       "      <td>0.688203</td>\n",
       "      <td>-1.417945</td>\n",
       "      <td>-0.425082</td>\n",
       "      <td>-0.674013</td>\n",
       "      <td>-0.320546</td>\n",
       "      <td>-0.078362</td>\n",
       "      <td>-0.127387</td>\n",
       "      <td>0.251356</td>\n",
       "      <td>-0.275627</td>\n",
       "      <td>0.309145</td>\n",
       "      <td>-0.119233</td>\n",
       "      <td>0.353050</td>\n",
       "    </tr>\n",
       "  </tbody>\n",
       "</table>\n",
       "</div>"
      ],
      "text/plain": [
       "        Alcohol   Malic acid       Ash   Alcalinity of ash     Magnesium  \\\n",
       "PCA_0 -1.166027    -3.615327  1.151285              1.167179    0.221634   \n",
       "PCA_1 -3.862612    -0.482177  1.727584              0.467086   -0.226540   \n",
       "PCA_2  2.283538     1.275033 -0.131677              1.107830    0.215798   \n",
       "PCA_3 -1.678507    -2.496962  0.556619              1.131270   -0.003420   \n",
       "PCA_4  1.572842     0.688203 -1.417945             -0.425082   -0.674013   \n",
       "\n",
       "        Total phenols   Flavanoids   Nonflavanoid phenols   Proanthocyanins  \\\n",
       "PCA_0        3.062380    -0.553745               0.918085         -0.639966   \n",
       "PCA_1       -1.016510     1.257686              -0.113136         -0.005981   \n",
       "PCA_2        1.004315    -0.979052              -0.678263         -0.481336   \n",
       "PCA_3        2.754779    -0.666927               0.150849         -0.121445   \n",
       "PCA_4       -0.320546    -0.078362              -0.127387          0.251356   \n",
       "\n",
       "       Color intensity       Hue  OD280/OD315 of diluted wines  \\\n",
       "PCA_0         0.262397 -0.112150                      0.071476   \n",
       "PCA_1        -0.453600  0.504570                     -0.182884   \n",
       "PCA_2        -0.777822  0.480180                     -0.458933   \n",
       "PCA_3        -0.123055 -0.319599                      0.045823   \n",
       "PCA_4        -0.275627  0.309145                     -0.119233   \n",
       "\n",
       "       Proline          \n",
       "PCA_0        -0.755592  \n",
       "PCA_1        -0.122403  \n",
       "PCA_2         0.415850  \n",
       "PCA_3        -0.791136  \n",
       "PCA_4         0.353050  "
      ]
     },
     "execution_count": 29,
     "metadata": {},
     "output_type": "execute_result"
    }
   ],
   "source": [
    "df1 = pd.DataFrame(res, columns=df.columns[1:],\n",
    "                   index=index_name)#[0:4]\n",
    "#df1.T.sort_values(by='PCA_0')\n",
    "df1.head()"
   ]
  },
  {
   "cell_type": "code",
   "execution_count": 27,
   "metadata": {
    "scrolled": true
   },
   "outputs": [
    {
     "data": {
      "text/html": [
       "<div>\n",
       "<style>\n",
       "    .dataframe thead tr:only-child th {\n",
       "        text-align: right;\n",
       "    }\n",
       "\n",
       "    .dataframe thead th {\n",
       "        text-align: left;\n",
       "    }\n",
       "\n",
       "    .dataframe tbody tr th {\n",
       "        vertical-align: top;\n",
       "    }\n",
       "</style>\n",
       "<table border=\"1\" class=\"dataframe\">\n",
       "  <thead>\n",
       "    <tr style=\"text-align: right;\">\n",
       "      <th></th>\n",
       "      <th>PCA_0</th>\n",
       "      <th>PCA_1</th>\n",
       "      <th>PCA_2</th>\n",
       "      <th>PCA_3</th>\n",
       "    </tr>\n",
       "  </thead>\n",
       "  <tbody>\n",
       "    <tr>\n",
       "      <th>Malic acid</th>\n",
       "      <td>-3.615327</td>\n",
       "      <td>-0.482177</td>\n",
       "      <td>1.275033</td>\n",
       "      <td>-2.496962</td>\n",
       "    </tr>\n",
       "    <tr>\n",
       "      <th>Alcohol</th>\n",
       "      <td>-1.166027</td>\n",
       "      <td>-3.862612</td>\n",
       "      <td>2.283538</td>\n",
       "      <td>-1.678507</td>\n",
       "    </tr>\n",
       "    <tr>\n",
       "      <th>Proline</th>\n",
       "      <td>-0.755592</td>\n",
       "      <td>-0.122403</td>\n",
       "      <td>0.415850</td>\n",
       "      <td>-0.791136</td>\n",
       "    </tr>\n",
       "    <tr>\n",
       "      <th>Proanthocyanins</th>\n",
       "      <td>-0.639966</td>\n",
       "      <td>-0.005981</td>\n",
       "      <td>-0.481336</td>\n",
       "      <td>-0.121445</td>\n",
       "    </tr>\n",
       "    <tr>\n",
       "      <th>Flavanoids</th>\n",
       "      <td>-0.553745</td>\n",
       "      <td>1.257686</td>\n",
       "      <td>-0.979052</td>\n",
       "      <td>-0.666927</td>\n",
       "    </tr>\n",
       "    <tr>\n",
       "      <th>Hue</th>\n",
       "      <td>-0.112150</td>\n",
       "      <td>0.504570</td>\n",
       "      <td>0.480180</td>\n",
       "      <td>-0.319599</td>\n",
       "    </tr>\n",
       "    <tr>\n",
       "      <th>OD280/OD315 of diluted wines</th>\n",
       "      <td>0.071476</td>\n",
       "      <td>-0.182884</td>\n",
       "      <td>-0.458933</td>\n",
       "      <td>0.045823</td>\n",
       "    </tr>\n",
       "    <tr>\n",
       "      <th>Magnesium</th>\n",
       "      <td>0.221634</td>\n",
       "      <td>-0.226540</td>\n",
       "      <td>0.215798</td>\n",
       "      <td>-0.003420</td>\n",
       "    </tr>\n",
       "    <tr>\n",
       "      <th>Color intensity</th>\n",
       "      <td>0.262397</td>\n",
       "      <td>-0.453600</td>\n",
       "      <td>-0.777822</td>\n",
       "      <td>-0.123055</td>\n",
       "    </tr>\n",
       "    <tr>\n",
       "      <th>Nonflavanoid phenols</th>\n",
       "      <td>0.918085</td>\n",
       "      <td>-0.113136</td>\n",
       "      <td>-0.678263</td>\n",
       "      <td>0.150849</td>\n",
       "    </tr>\n",
       "    <tr>\n",
       "      <th>Ash</th>\n",
       "      <td>1.151285</td>\n",
       "      <td>1.727584</td>\n",
       "      <td>-0.131677</td>\n",
       "      <td>0.556619</td>\n",
       "    </tr>\n",
       "    <tr>\n",
       "      <th>Alcalinity of ash</th>\n",
       "      <td>1.167179</td>\n",
       "      <td>0.467086</td>\n",
       "      <td>1.107830</td>\n",
       "      <td>1.131270</td>\n",
       "    </tr>\n",
       "    <tr>\n",
       "      <th>Total phenols</th>\n",
       "      <td>3.062380</td>\n",
       "      <td>-1.016510</td>\n",
       "      <td>1.004315</td>\n",
       "      <td>2.754779</td>\n",
       "    </tr>\n",
       "  </tbody>\n",
       "</table>\n",
       "</div>"
      ],
      "text/plain": [
       "                                 PCA_0     PCA_1     PCA_2     PCA_3\n",
       " Malic acid                  -3.615327 -0.482177  1.275033 -2.496962\n",
       " Alcohol                     -1.166027 -3.862612  2.283538 -1.678507\n",
       "Proline                      -0.755592 -0.122403  0.415850 -0.791136\n",
       " Proanthocyanins             -0.639966 -0.005981 -0.481336 -0.121445\n",
       " Flavanoids                  -0.553745  1.257686 -0.979052 -0.666927\n",
       "Hue                          -0.112150  0.504570  0.480180 -0.319599\n",
       "OD280/OD315 of diluted wines  0.071476 -0.182884 -0.458933  0.045823\n",
       " Magnesium                    0.221634 -0.226540  0.215798 -0.003420\n",
       "Color intensity               0.262397 -0.453600 -0.777822 -0.123055\n",
       " Nonflavanoid phenols         0.918085 -0.113136 -0.678263  0.150849\n",
       " Ash                          1.151285  1.727584 -0.131677  0.556619\n",
       " Alcalinity of ash            1.167179  0.467086  1.107830  1.131270\n",
       " Total phenols                3.062380 -1.016510  1.004315  2.754779"
      ]
     },
     "execution_count": 27,
     "metadata": {},
     "output_type": "execute_result"
    }
   ],
   "source": [
    "df1 = pd.DataFrame(res, columns=df.columns[1:],\n",
    "                   index=index_name)[0:4]\n",
    "df1.T.sort_values(by='PCA_0')"
   ]
  },
  {
   "cell_type": "markdown",
   "metadata": {},
   "source": [
    "***"
   ]
  }
 ],
 "metadata": {
  "kernelspec": {
   "display_name": "Python 3",
   "language": "python",
   "name": "python3"
  },
  "language_info": {
   "codemirror_mode": {
    "name": "ipython",
    "version": 3
   },
   "file_extension": ".py",
   "mimetype": "text/x-python",
   "name": "python",
   "nbconvert_exporter": "python",
   "pygments_lexer": "ipython3",
   "version": "3.6.3"
  }
 },
 "nbformat": 4,
 "nbformat_minor": 2
}
